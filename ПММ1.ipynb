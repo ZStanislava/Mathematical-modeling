{
  "cells": [
    {
      "cell_type": "code",
      "execution_count": null,
      "metadata": {
        "id": "wZY6NOJYb8Eg",
        "colab": {
          "base_uri": "https://localhost:8080/"
        },
        "outputId": "21fbbd71-63d6-4ae8-92b6-577f43386175"
      },
      "outputs": [
        {
          "output_type": "stream",
          "name": "stdout",
          "text": [
            "Интервал:\n",
            "-0.9822867209563564\n",
            "-0.5372574528105553\n",
            "x_: 130\n",
            "y_: 35\n",
            "x2_: 16964.8\n",
            "y2_: 1485\n",
            "s2x: 64.8\n",
            "s2y: 260\n",
            "xy__: 4433\n",
            "sxy: -117\n",
            "Квантиль:\n",
            "2.3263478740408408\n"
          ]
        }
      ],
      "source": [
        "from decimal import Decimal, getcontext\n",
        "import math\n",
        "from scipy.stats import norm\n",
        "\n",
        "def get_u_alpha(alpha):\n",
        "    value_alpha = 1 - (alpha / 2)\n",
        "    return norm.ppf(value_alpha, loc=0, scale=1)#ищем квантиль нормального распределения для заданного уровня значимости. value_alpha-значение вероятности, loc-среднему значению,scale-стандартному отклонению нормального распределения\n",
        "\n",
        "\n",
        "# Устанавливаем точность вычислений\n",
        "getcontext().prec = 6  # Установим точность до шести знаков после запятой\n",
        "\n",
        "def laba1():\n",
        "    # ИСХОДНЫЕ ДАННЫЕ\n",
        "    alpha = 0.02\n",
        "    x = [Decimal('121'), Decimal('130'), Decimal('139')]#гарантирует, что число 121 будет интерпретироваться как число с фиксированной точностью, а не как число типа float.\n",
        "    y = [Decimal('15'), Decimal('20'), Decimal('50'), Decimal('55')]\n",
        "    matrix_data = [[0, 0, 1], [0, 1, 3], [3, 1, 0], [1, 0, 0]]\n",
        "\n",
        "    # РЕШЕНИЕ\n",
        "\n",
        "    # Считается nx, ny, n\n",
        "    nx = [sum(column) for column in zip(*matrix_data)]\n",
        "    ny = [sum(row) for row in matrix_data]\n",
        "    n = sum(nx)\n",
        "\n",
        "    # Считается x_, y_\n",
        "    x_ = sum(nx[i] * x[i] for i in range(3)) / n\n",
        "    y_ = sum(ny[j] * y[j] for j in range(4)) / n\n",
        "\n",
        "    # Считается x2_, y2_\n",
        "    x2_ = sum(nx[i] * x[i] * x[i] for i in range(3)) / n\n",
        "    y2_ = sum(ny[j] * y[j] * y[j] for j in range(4)) / n\n",
        "\n",
        "    # Считается s2x и s2y\n",
        "    s2x = x2_ - x_ * x_\n",
        "    s2y = y2_ - y_ * y_\n",
        "\n",
        "    # Считается xy__\n",
        "    xy__ = sum(x[i] * y[j] * matrix_data[j][i] for i in range(3) for j in range(4)) / n\n",
        "\n",
        "    # Считается sxy\n",
        "    sxy = xy__ - x_ * y_\n",
        "\n",
        "    # Считается pxy\n",
        "    pxy = sxy / (s2x.sqrt() * s2y.sqrt())\n",
        "\n",
        "    # Поиск доверительного интервала\n",
        "    fraction1 = (1 / 2) * math.log((1 + pxy) / (1 - pxy))\n",
        "    u_alpha = get_u_alpha(alpha)\n",
        "    fraction2 = u_alpha / math.sqrt(n - 3)\n",
        "    interval_log1 = fraction1 - fraction2\n",
        "    interval_log2 = fraction1 + fraction2\n",
        "    interval_pxy1 = (math.exp(2 * interval_log1) - 1) / (math.exp(2 * interval_log1) + 1)\n",
        "    interval_pxy2 = (math.exp(2 * interval_log2) - 1) / (math.exp(2 * interval_log2) + 1)\n",
        "\n",
        "    print(\"Интервал:\")\n",
        "    print(interval_pxy1)\n",
        "    print(interval_pxy2)\n",
        "    print(\"x_:\", x_)\n",
        "    print(\"y_:\", y_)\n",
        "    print(\"x2_:\", x2_)\n",
        "    print(\"y2_:\", y2_)\n",
        "    print(\"s2x:\", s2x)\n",
        "    print(\"s2y:\", s2y)\n",
        "    print(\"xy__:\", xy__)\n",
        "    print(\"sxy:\", sxy)\n",
        "    print(\"Квантиль:\")\n",
        "    print(u_alpha)\n",
        "\n",
        "\n",
        "laba1()\n"
      ]
    },
    {
      "cell_type": "markdown",
      "source": [
        " ** БЕЗ ТОЧНОСТИ**"
      ],
      "metadata": {
        "id": "7VxnNzUrsKVE"
      }
    },
    {
      "cell_type": "code",
      "source": [
        "import math\n",
        "from scipy.stats import norm\n",
        "\n",
        "def get_u_alpha(alpha):\n",
        "    value_alpha = 1 - (alpha / 2)\n",
        "    return norm.ppf(value_alpha, loc=0, scale=1)\n",
        "\n",
        "def laba1():\n",
        "    # ИСХОДНЫЕ ДАННЫЕ\n",
        "    alpha = 0.02\n",
        "    x = [121, 130, 139]\n",
        "    y = [15, 20, 50, 55]\n",
        "    matrix_data = [[0, 0, 1], [0, 1, 3], [3, 1, 0], [1, 0, 0]]\n",
        "\n",
        "    # РЕШЕНИЕ\n",
        "\n",
        "    # Считается nx, ny, n\n",
        "    nx = [sum(column) for column in zip(*matrix_data)]\n",
        "    ny = [sum(row) for row in matrix_data]\n",
        "    n = sum(nx)\n",
        "\n",
        "    # Считается x_, y_\n",
        "    x_ = sum(nx[i] * x[i] for i in range(3)) / n\n",
        "    y_ = sum(ny[j] * y[j] for j in range(4)) / n\n",
        "\n",
        "    # Считается x2_, y2_\n",
        "    x2_ = sum(nx[i] * x[i] * x[i] for i in range(3)) / n\n",
        "    y2_ = sum(ny[j] * y[j] * y[j] for j in range(4)) / n\n",
        "\n",
        "    # Считается s2x и s2y\n",
        "    s2x = x2_ - x_ * x_\n",
        "    s2y = y2_ - y_ * y_\n",
        "\n",
        "    # Считается xy__\n",
        "    xy__ = sum(x[i] * y[j] * matrix_data[j][i] for i in range(3) for j in range(4)) / n\n",
        "\n",
        "    # Считается sxy\n",
        "    sxy = xy__ - x_ * y_\n",
        "\n",
        "    # Считается pxy\n",
        "    pxy = sxy / (math.sqrt(s2x) * math.sqrt(s2y))\n",
        "    print(\"pxy:\")\n",
        "    print(pxy)\n",
        "\n",
        "    # Поиск доверительного интервала\n",
        "    fraction1 = (1 / 2) * math.log((1 + pxy) / (1 - pxy))\n",
        "    u_alpha = get_u_alpha(alpha)\n",
        "    fraction2 = u_alpha / math.sqrt(n - 3)\n",
        "    interval_log1 = fraction1 - fraction2\n",
        "    interval_log2 = fraction1 + fraction2\n",
        "    interval_pxy1 = (math.exp(2 * interval_log1) - 1) / (math.exp(2 * interval_log1) + 1)\n",
        "    interval_pxy2 = (math.exp(2 * interval_log2) - 1) / (math.exp(2 * interval_log2) + 1)\n",
        "    print(\"Интервал:\")\n",
        "    print(interval_pxy1)\n",
        "    print(interval_pxy2)\n",
        "    print(\"x_:\", x_)\n",
        "    print(\"y_:\", y_)\n",
        "    print(\"x2_:\", x2_)\n",
        "    print(\"y2_:\", y2_)\n",
        "    print(\"s2x:\", s2x)\n",
        "    print(\"s2y:\", s2y)\n",
        "    print(\"xy__:\", xy__)\n",
        "    print(\"sxy:\", sxy)\n",
        "    print(\"Квантиль:\")\n",
        "    print(u_alpha)\n",
        "\n",
        "laba1()\n"
      ],
      "metadata": {
        "colab": {
          "base_uri": "https://localhost:8080/"
        },
        "id": "76bzOUtGsBRu",
        "outputId": "8d7c6930-d17a-4f18-fc1f-3f52c6530206"
      },
      "execution_count": null,
      "outputs": [
        {
          "output_type": "stream",
          "name": "stdout",
          "text": [
            "pxy:\n",
            "-0.9013878188660024\n",
            "Интервал:\n",
            "-0.9822868342122039\n",
            "-0.5372597472777981\n",
            "x_: 130.0\n",
            "y_: 35.0\n",
            "x2_: 16964.8\n",
            "y2_: 1485.0\n",
            "s2x: 64.79999999999927\n",
            "s2y: 260.0\n",
            "xy__: 4433.0\n",
            "sxy: -117.0\n",
            "Квантиль:\n",
            "2.3263478740408408\n"
          ]
        }
      ]
    }
  ],
  "metadata": {
    "colab": {
      "provenance": []
    },
    "kernelspec": {
      "display_name": "Python 3",
      "name": "python3"
    },
    "language_info": {
      "name": "python"
    }
  },
  "nbformat": 4,
  "nbformat_minor": 0
}